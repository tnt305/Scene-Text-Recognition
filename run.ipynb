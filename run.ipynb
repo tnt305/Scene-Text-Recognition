{
 "cells": [
  {
   "cell_type": "code",
   "execution_count": null,
   "metadata": {},
   "outputs": [],
   "source": [
    "import os\n",
    "from model import *\n",
    "from utils import *\n",
    "from inference import predict\n",
    "from recognition.process.vocab import *\n",
    "device = 'cuda' if torch.cuda.is_available() else 'cpu'\n",
    "\n",
    "from torchvision import transforms"
   ]
  },
  {
   "cell_type": "code",
   "execution_count": null,
   "metadata": {},
   "outputs": [],
   "source": [
    "data_transforms = {\n",
    "    'train': transforms.Compose([\n",
    "        transforms.Resize((100, 420)), \n",
    "        transforms.ColorJitter(brightness=0.5, contrast=0.5, saturation=0.5),\n",
    "        transforms.Grayscale(num_output_channels=1),\n",
    "        transforms.GaussianBlur(3),\n",
    "        transforms.RandomAffine(degrees=1, shear=1),  \n",
    "        transforms.RandomPerspective(distortion_scale=0.2, p=0.3, interpolation=3),  \n",
    "        transforms.RandomRotation(degrees=2),\n",
    "        transforms.ToTensor(),  \n",
    "        transforms.Normalize((0.5,), (0.5,)), \n",
    "    ]),\n",
    "    'val': transforms.Compose([\n",
    "        transforms.Resize((100, 420)), \n",
    "        transforms.Grayscale(num_output_channels=1),\n",
    "        transforms.ToTensor(),  \n",
    "        transforms.Normalize((0.5,), (0.5,)), \n",
    "    ]),\n",
    "}"
   ]
  },
  {
   "cell_type": "code",
   "execution_count": null,
   "metadata": {},
   "outputs": [],
   "source": [
    "img_dir = 'datasets/SceneTrialTrain/lfsosa_12.08.2002'\n",
    "inf_transforms = data_transforms['val']\n",
    "\n",
    "for img_filename in os.listdir(img_dir):\n",
    "    img_path = os.path.join(img_dir, img_filename)\n",
    "    predictions = predict(\n",
    "        img_path, \n",
    "        data_transforms=inf_transforms, \n",
    "        text_det_model=yolo, \n",
    "        text_reg_model=crnn_model, \n",
    "        idx_to_char=idx_to_char,\n",
    "        device=device,\n",
    "        visualize=True\n",
    "    )"
   ]
  }
 ],
 "metadata": {
  "language_info": {
   "name": "python"
  }
 },
 "nbformat": 4,
 "nbformat_minor": 2
}
